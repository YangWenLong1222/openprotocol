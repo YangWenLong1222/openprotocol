{
  "nbformat": 4,
  "nbformat_minor": 0,
  "metadata": {
    "colab": {
      "name": "OpenProtoCol.ipynb",
      "provenance": [],
      "collapsed_sections": [],
      "authorship_tag": "ABX9TyP/rpP6mKtG8wFAqUlkSXFQ",
      "include_colab_link": true
    },
    "kernelspec": {
      "name": "python3",
      "display_name": "Python 3"
    },
    "language_info": {
      "name": "python"
    }
  },
  "cells": [
    {
      "cell_type": "markdown",
      "metadata": {
        "id": "view-in-github",
        "colab_type": "text"
      },
      "source": [
        "<a href=\"https://colab.research.google.com/github/jphermans/openprotocol/blob/main/OpenProtoCol.ipynb\" target=\"_parent\"><img src=\"https://colab.research.google.com/assets/colab-badge.svg\" alt=\"Open In Colab\"/></a>"
      ]
    },
    {
      "cell_type": "code",
      "metadata": {
        "id": "iBi5lf9_B7AY"
      },
      "source": [
        "# importeer de modules\n",
        "import socket, base64, csv\n",
        "import os, sys, time, argparse\n",
        "from sys import platform\n",
        "from subprocess import call\n",
        "\n",
        "''' met deze parser gaan we argumenten aan het commando toevoegen\n",
        "hier moeten ze dus het ipadres en poort toevoegen!'''\n",
        "parser = argparse.ArgumentParser(description='Haal tooldata op via openprotocol')\n",
        "parser.add_argument(\"host\", help=\"pf ip adres\", type=str)\n",
        "parser.add_argument(\"port\", help=\"pf port (4545)\", type=int)\n",
        "args = parser.parse_args()\n",
        "\n",
        "encodedStr = \"Q3JlYXRlZCBieSBKUEggMjAyMSAvIGplYW4tcGllcnJlLmhlcm1hbnNAYXRsYXNjb3Bjby5jb20=\"\n",
        "# Standard Base64 Decoding\n",
        "decodedBytes = base64.b64decode(encodedStr)\n",
        "decodedStr = str(decodedBytes, \"utf-8\")\n",
        "\n",
        "# maak bestand wanneer deze nog niet bestaat!\n",
        "if not os.path.exists('tooldata.csv'):\n",
        "  with open('tooldata.csv', 'w'): pass\n",
        "\n",
        "def screen_clear():\n",
        "  if platform == \"linux\" or platform == \"linux2\":\n",
        "      #linux\n",
        "    os.system('clear')\n",
        "  elif platform == \"darwin\":\n",
        "      #OSX\n",
        "    os.system('clear')\n",
        "  elif platform == \"win32\":\n",
        "      #windows\n",
        "    os.system('cls')\n",
        "  else: #OS niet herkend!\n",
        "    print(\"Operating System not regconized!\")\n",
        "\n",
        "'''haal adres en poort via commando\n",
        "voor het aansturen via open protocol!'''\n",
        "screen_clear() # maak scherm leeg!\n",
        "hostpf = args.host # haal hostnaam of ip uit commando argument\n",
        "pfpoort = args.port # haal de poort waarde uit commando argument\n",
        "\n",
        "''' definieer variabelen [MIDS] voor gebruik. Het cijfer na de MIDx staat voor\n",
        "het eigenlijke MID nummer dat we gaan gebruiken. ''' \n",
        "MID1 = '00200001001000000000'\n",
        "MID40 = '00200040002000000000'\n",
        "MID3 = '00200003001000000000'\n",
        "MID270 = '270'\n",
        "\n",
        "with socket.socket(socket.AF_INET, socket.SOCK_STREAM) as sock:\n",
        "  sock.connect((hostpf, pfpoort))\n",
        "\n",
        "  #stuur mid 1 om de connectie te testen\n",
        "  sendMID1 = MID1 + chr(0)\n",
        "  sock.sendall(sendMID1.encode())\n",
        "  data1 = sock.recv(1024).decode()\n",
        "  receivedMID = data1[4:8]\n",
        "  \n",
        "  #kijk received mid na of deze Ok is\n",
        "  if receivedMID == '0002':\n",
        "    print('[' + receivedMID + ']' + \" - Ok telegram gekregen!\")\n",
        "    print()\n",
        "    time.sleep(1.5)\n",
        "    sendMID40 = MID40 + chr(0)\n",
        "    sock.sendall(sendMID40.encode())\n",
        "    data40 = sock.recv(1024).decode()\n",
        "    sendMID3 = MID3 + chr(0)\n",
        "    sock.sendall(sendMID3.encode())\n",
        "    sock.close\n",
        "    print(\"OS platform is: \", os.name)\n",
        "    print('Received telegram ' + '[' + data40[4:8] + ']')\n",
        "    print('*' * 50)\n",
        "    print('              Tool serial: ', data40[22:36])\n",
        "    print('        Total Tightenings: ', data40[38:48])\n",
        "    print('           Last Cal. Date: ', data40[50:60])\n",
        "    print('        Controller serial: ', data40[71:81])\n",
        "    print('        Calibration value: ', data40[84:89])\n",
        "    print('             Last service: ', data40[91:101])\n",
        "    print('Tightenings since service: ', data40[113:122])\n",
        "    print('      Controller firmware: ', data40[138:156])\n",
        "    print('*' * 50)\n",
        "    print(decodedStr)\n",
        "    print(\"\\n\")\n",
        "  else:\n",
        "    print(\"Error in connection\")\n",
        "    time.sleep(2)\n",
        "    sock.close\n",
        "    sys.exit\n"
      ],
      "execution_count": null,
      "outputs": []
    }
  ]
}